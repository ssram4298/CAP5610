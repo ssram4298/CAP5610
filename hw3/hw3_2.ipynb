{
 "cells": [
  {
   "cell_type": "code",
   "execution_count": 2,
   "metadata": {},
   "outputs": [],
   "source": [
    "import numpy as np \n",
    "import pandas as pd \n",
    "import matplotlib.pyplot as plt\n",
    "from surprise import KNNBasic, SVD, Reader, accuracy, Dataset\n",
    "from surprise.model_selection import cross_validate, train_test_split\n",
    "%matplotlib inline"
   ]
  },
  {
   "cell_type": "code",
   "execution_count": 3,
   "metadata": {},
   "outputs": [],
   "source": [
    "rating = pd.read_csv('movie_data/ratings_small.csv')"
   ]
  },
  {
   "cell_type": "code",
   "execution_count": 4,
   "metadata": {},
   "outputs": [
    {
     "data": {
      "text/html": [
       "<div>\n",
       "<style scoped>\n",
       "    .dataframe tbody tr th:only-of-type {\n",
       "        vertical-align: middle;\n",
       "    }\n",
       "\n",
       "    .dataframe tbody tr th {\n",
       "        vertical-align: top;\n",
       "    }\n",
       "\n",
       "    .dataframe thead th {\n",
       "        text-align: right;\n",
       "    }\n",
       "</style>\n",
       "<table border=\"1\" class=\"dataframe\">\n",
       "  <thead>\n",
       "    <tr style=\"text-align: right;\">\n",
       "      <th></th>\n",
       "      <th>userId</th>\n",
       "      <th>movieId</th>\n",
       "      <th>rating</th>\n",
       "      <th>timestamp</th>\n",
       "    </tr>\n",
       "  </thead>\n",
       "  <tbody>\n",
       "    <tr>\n",
       "      <th>0</th>\n",
       "      <td>1</td>\n",
       "      <td>31</td>\n",
       "      <td>2.5</td>\n",
       "      <td>1260759144</td>\n",
       "    </tr>\n",
       "    <tr>\n",
       "      <th>1</th>\n",
       "      <td>1</td>\n",
       "      <td>1029</td>\n",
       "      <td>3.0</td>\n",
       "      <td>1260759179</td>\n",
       "    </tr>\n",
       "    <tr>\n",
       "      <th>2</th>\n",
       "      <td>1</td>\n",
       "      <td>1061</td>\n",
       "      <td>3.0</td>\n",
       "      <td>1260759182</td>\n",
       "    </tr>\n",
       "    <tr>\n",
       "      <th>3</th>\n",
       "      <td>1</td>\n",
       "      <td>1129</td>\n",
       "      <td>2.0</td>\n",
       "      <td>1260759185</td>\n",
       "    </tr>\n",
       "    <tr>\n",
       "      <th>4</th>\n",
       "      <td>1</td>\n",
       "      <td>1172</td>\n",
       "      <td>4.0</td>\n",
       "      <td>1260759205</td>\n",
       "    </tr>\n",
       "    <tr>\n",
       "      <th>...</th>\n",
       "      <td>...</td>\n",
       "      <td>...</td>\n",
       "      <td>...</td>\n",
       "      <td>...</td>\n",
       "    </tr>\n",
       "    <tr>\n",
       "      <th>99999</th>\n",
       "      <td>671</td>\n",
       "      <td>6268</td>\n",
       "      <td>2.5</td>\n",
       "      <td>1065579370</td>\n",
       "    </tr>\n",
       "    <tr>\n",
       "      <th>100000</th>\n",
       "      <td>671</td>\n",
       "      <td>6269</td>\n",
       "      <td>4.0</td>\n",
       "      <td>1065149201</td>\n",
       "    </tr>\n",
       "    <tr>\n",
       "      <th>100001</th>\n",
       "      <td>671</td>\n",
       "      <td>6365</td>\n",
       "      <td>4.0</td>\n",
       "      <td>1070940363</td>\n",
       "    </tr>\n",
       "    <tr>\n",
       "      <th>100002</th>\n",
       "      <td>671</td>\n",
       "      <td>6385</td>\n",
       "      <td>2.5</td>\n",
       "      <td>1070979663</td>\n",
       "    </tr>\n",
       "    <tr>\n",
       "      <th>100003</th>\n",
       "      <td>671</td>\n",
       "      <td>6565</td>\n",
       "      <td>3.5</td>\n",
       "      <td>1074784724</td>\n",
       "    </tr>\n",
       "  </tbody>\n",
       "</table>\n",
       "<p>100004 rows × 4 columns</p>\n",
       "</div>"
      ],
      "text/plain": [
       "        userId  movieId  rating   timestamp\n",
       "0            1       31     2.5  1260759144\n",
       "1            1     1029     3.0  1260759179\n",
       "2            1     1061     3.0  1260759182\n",
       "3            1     1129     2.0  1260759185\n",
       "4            1     1172     4.0  1260759205\n",
       "...        ...      ...     ...         ...\n",
       "99999      671     6268     2.5  1065579370\n",
       "100000     671     6269     4.0  1065149201\n",
       "100001     671     6365     4.0  1070940363\n",
       "100002     671     6385     2.5  1070979663\n",
       "100003     671     6565     3.5  1074784724\n",
       "\n",
       "[100004 rows x 4 columns]"
      ]
     },
     "execution_count": 4,
     "metadata": {},
     "output_type": "execute_result"
    }
   ],
   "source": [
    "rating"
   ]
  },
  {
   "cell_type": "code",
   "execution_count": 5,
   "metadata": {},
   "outputs": [],
   "source": [
    "reader = Reader()\n",
    "data = Dataset.load_from_df(rating[['userId', 'movieId', 'rating']], reader)"
   ]
  },
  {
   "cell_type": "code",
   "execution_count": 6,
   "metadata": {},
   "outputs": [
    {
     "name": "stdout",
     "output_type": "stream",
     "text": [
      "Evaluating RMSE, MAE of algorithm SVD on 5 split(s).\n",
      "\n",
      "                  Fold 1  Fold 2  Fold 3  Fold 4  Fold 5  Mean    Std     \n",
      "RMSE (testset)    1.0071  1.0098  1.0027  1.0114  1.0067  1.0075  0.0030  \n",
      "MAE (testset)     0.7778  0.7779  0.7743  0.7814  0.7798  0.7783  0.0024  \n",
      "Fit time          1.03    1.07    1.12    1.03    1.01    1.05    0.04    \n",
      "Test time         0.14    0.19    0.12    0.20    0.12    0.15    0.04    \n"
     ]
    }
   ],
   "source": [
    "probmf_svd = SVD(biased = False)\n",
    "cv_probmf = cross_validate(probmf_svd, data, measures=['RMSE', 'MAE'], cv=5, verbose=True);"
   ]
  },
  {
   "cell_type": "code",
   "execution_count": 7,
   "metadata": {},
   "outputs": [
    {
     "name": "stdout",
     "output_type": "stream",
     "text": [
      "MAE and PMF average for Collaborative Filtering is   0.7782502676707393\n",
      "RMSE and PMF average for Collaborative Filtering is  1.007542863744435\n"
     ]
    }
   ],
   "source": [
    "print('MAE and PMF average for Collaborative Filtering is  ', cv_probmf['test_mae'].mean())\n",
    "print('RMSE and PMF average for Collaborative Filtering is ', cv_probmf['test_rmse'].mean())"
   ]
  },
  {
   "cell_type": "code",
   "execution_count": 8,
   "metadata": {},
   "outputs": [
    {
     "name": "stdout",
     "output_type": "stream",
     "text": [
      "Computing the msd similarity matrix...\n",
      "Done computing similarity matrix.\n",
      "Computing the msd similarity matrix...\n",
      "Done computing similarity matrix.\n",
      "Computing the msd similarity matrix...\n",
      "Done computing similarity matrix.\n",
      "Computing the msd similarity matrix...\n",
      "Done computing similarity matrix.\n",
      "Computing the msd similarity matrix...\n",
      "Done computing similarity matrix.\n",
      "Evaluating RMSE, MAE of algorithm KNNBasic on 5 split(s).\n",
      "\n",
      "                  Fold 1  Fold 2  Fold 3  Fold 4  Fold 5  Mean    Std     \n",
      "RMSE (testset)    0.9763  0.9604  0.9668  0.9704  0.9619  0.9672  0.0058  \n",
      "MAE (testset)     0.7517  0.7371  0.7421  0.7460  0.7410  0.7436  0.0050  \n",
      "Fit time          0.12    0.13    0.13    0.13    0.13    0.13    0.01    \n",
      "Test time         1.41    1.33    1.36    1.34    1.35    1.36    0.03    \n"
     ]
    }
   ],
   "source": [
    "sim_options = {'user_based': True}\n",
    "user_colf = KNNBasic(sim_options=sim_options)\n",
    "cv_ub = cross_validate(user_colf, data, measures=['RMSE', 'MAE'], cv=5, verbose=True);"
   ]
  },
  {
   "cell_type": "code",
   "execution_count": 9,
   "metadata": {},
   "outputs": [
    {
     "name": "stdout",
     "output_type": "stream",
     "text": [
      "MAE Average for Userbased collaborative filtering is   0.7435993387651367\n",
      "RMSE Average for Userbased collaborative filtering is   0.9671579637156764\n"
     ]
    }
   ],
   "source": [
    "print('MAE Average for Userbased collaborative filtering is  ', cv_ub['test_mae'].mean())\n",
    "print('RMSE Average for Userbased collaborative filtering is  ', cv_ub['test_rmse'].mean())"
   ]
  },
  {
   "cell_type": "code",
   "execution_count": 37,
   "metadata": {},
   "outputs": [
    {
     "name": "stdout",
     "output_type": "stream",
     "text": [
      "Computing the msd similarity matrix...\n",
      "Done computing similarity matrix.\n",
      "Computing the msd similarity matrix...\n",
      "Done computing similarity matrix.\n",
      "Computing the msd similarity matrix...\n",
      "Done computing similarity matrix.\n",
      "Computing the msd similarity matrix...\n",
      "Done computing similarity matrix.\n",
      "Computing the msd similarity matrix...\n",
      "Done computing similarity matrix.\n",
      "Evaluating RMSE, MAE of algorithm KNNBasic on 5 split(s).\n",
      "\n",
      "                  Fold 1  Fold 2  Fold 3  Fold 4  Fold 5  Mean    Std     \n",
      "RMSE (testset)    0.9402  0.9322  0.9295  0.9351  0.9362  0.9346  0.0037  \n",
      "MAE (testset)     0.7250  0.7197  0.7188  0.7203  0.7204  0.7208  0.0022  \n",
      "Fit time          3.89    3.56    3.14    3.21    3.19    3.40    0.29    \n",
      "Test time         6.20    6.54    7.03    6.65    6.97    6.68    0.30    \n"
     ]
    }
   ],
   "source": [
    "sim_options = {'user_based': False}\n",
    "item_based_colf = KNNBasic(sim_options=sim_options)\n",
    "cv_itb = cross_validate(item_based_colf, data, measures=['RMSE', 'MAE'], cv=5, verbose=True);"
   ]
  },
  {
   "cell_type": "code",
   "execution_count": 38,
   "metadata": {},
   "outputs": [
    {
     "name": "stdout",
     "output_type": "stream",
     "text": [
      "MAE Average for Itembased collaborative filtering is  0.72083464429192\n",
      "RMSE Average for Itembased collaborative filtering is  0.9346352456333313\n"
     ]
    }
   ],
   "source": [
    "print('MAE Average for Itembased collaborative filtering is ', cv_itb['test_mae'].mean())\n",
    "print('RMSE Average for Itembased collaborative filtering is ', cv_itb['test_rmse'].mean())"
   ]
  },
  {
   "cell_type": "code",
   "execution_count": 10,
   "metadata": {},
   "outputs": [
    {
     "name": "stdout",
     "output_type": "stream",
     "text": [
      "Computing the cosine similarity matrix...\n",
      "Done computing similarity matrix.\n",
      "Computing the cosine similarity matrix...\n",
      "Done computing similarity matrix.\n",
      "Computing the cosine similarity matrix...\n",
      "Done computing similarity matrix.\n",
      "Computing the cosine similarity matrix...\n",
      "Done computing similarity matrix.\n",
      "Computing the cosine similarity matrix...\n",
      "Done computing similarity matrix.\n",
      "Evaluating RMSE, MAE of algorithm KNNBasic on 5 split(s).\n",
      "\n",
      "                  Fold 1  Fold 2  Fold 3  Fold 4  Fold 5  Mean    Std     \n",
      "RMSE (testset)    0.9950  0.9918  0.9923  0.9949  0.9941  0.9936  0.0013  \n",
      "MAE (testset)     0.7678  0.7643  0.7683  0.7691  0.7676  0.7674  0.0017  \n",
      "Fit time          0.17    0.18    0.18    0.19    0.18    0.18    0.01    \n",
      "Test time         1.34    1.34    1.33    1.43    1.31    1.35    0.04    \n"
     ]
    }
   ],
   "source": [
    "#Cosine\n",
    "sim_options = {'name':'cosine', 'user_based': True}\n",
    "usb_cosine = KNNBasic(sim_options=sim_options);\n",
    "cv_usb_cos = cross_validate(usb_cosine, data, measures=['RMSE', 'MAE'], cv=5, verbose=True);"
   ]
  },
  {
   "cell_type": "code",
   "execution_count": 11,
   "metadata": {},
   "outputs": [
    {
     "name": "stdout",
     "output_type": "stream",
     "text": [
      "Computing the msd similarity matrix...\n",
      "Done computing similarity matrix.\n",
      "Computing the msd similarity matrix...\n",
      "Done computing similarity matrix.\n",
      "Computing the msd similarity matrix...\n",
      "Done computing similarity matrix.\n",
      "Computing the msd similarity matrix...\n",
      "Done computing similarity matrix.\n",
      "Computing the msd similarity matrix...\n",
      "Done computing similarity matrix.\n",
      "Evaluating RMSE, MAE of algorithm KNNBasic on 5 split(s).\n",
      "\n",
      "                  Fold 1  Fold 2  Fold 3  Fold 4  Fold 5  Mean    Std     \n",
      "RMSE (testset)    0.9715  0.9611  0.9689  0.9778  0.9593  0.9677  0.0068  \n",
      "MAE (testset)     0.7452  0.7396  0.7470  0.7480  0.7405  0.7441  0.0034  \n",
      "Fit time          0.11    0.17    0.14    0.13    0.13    0.14    0.02    \n",
      "Test time         1.37    1.34    1.34    1.44    1.33    1.36    0.04    \n"
     ]
    }
   ],
   "source": [
    "#MSD\n",
    "sim_options = {'name':'msd', 'user_based': True}\n",
    "usb_msd = KNNBasic(sim_options=sim_options);\n",
    "cv_usb_msd = cross_validate(usb_msd, data, measures=['RMSE', 'MAE'], cv=5, verbose=True);\n"
   ]
  },
  {
   "cell_type": "code",
   "execution_count": 12,
   "metadata": {},
   "outputs": [
    {
     "name": "stdout",
     "output_type": "stream",
     "text": [
      "Computing the pearson similarity matrix...\n",
      "Done computing similarity matrix.\n",
      "Computing the pearson similarity matrix...\n",
      "Done computing similarity matrix.\n",
      "Computing the pearson similarity matrix...\n",
      "Done computing similarity matrix.\n",
      "Computing the pearson similarity matrix...\n",
      "Done computing similarity matrix.\n",
      "Computing the pearson similarity matrix...\n",
      "Done computing similarity matrix.\n",
      "Evaluating RMSE, MAE of algorithm KNNBasic on 5 split(s).\n",
      "\n",
      "                  Fold 1  Fold 2  Fold 3  Fold 4  Fold 5  Mean    Std     \n",
      "RMSE (testset)    0.9921  0.9954  0.9978  1.0023  0.9975  0.9970  0.0033  \n",
      "MAE (testset)     0.7687  0.7696  0.7728  0.7764  0.7698  0.7715  0.0028  \n",
      "Fit time          0.24    0.28    0.25    0.24    0.25    0.25    0.02    \n",
      "Test time         1.46    1.45    1.33    1.34    1.33    1.38    0.06    \n"
     ]
    }
   ],
   "source": [
    "#Pearson\n",
    "sim_options = {'name':'pearson', 'user_based': True}\n",
    "usb_pearson = KNNBasic(sim_options=sim_options);\n",
    "cv_usb_pearson = cross_validate(usb_pearson, data, measures=['RMSE', 'MAE'], cv=5, verbose=True);\n"
   ]
  },
  {
   "cell_type": "code",
   "execution_count": 13,
   "metadata": {},
   "outputs": [
    {
     "data": {
      "image/png": "[encoded data removed]",
      "text/plain": [
       "<Figure size 640x480 with 1 Axes>"
      ]
     },
     "metadata": {},
     "output_type": "display_data"
    }
   ],
   "source": [
    "#Observation\n",
    "x = [0,1,2]\n",
    "y_mae = [cv_usb_cos['test_mae'].mean(),cv_usb_msd['test_mae'].mean(),cv_usb_pearson['test_mae'].mean()]\n",
    "y_rmse = [cv_usb_cos['test_rmse'].mean(),cv_usb_msd['test_rmse'].mean(),cv_usb_pearson['test_rmse'].mean()]\n",
    "plt.plot(x, y_mae)\n",
    "plt.plot(x, y_rmse)\n",
    "plt.legend(['MAE','RMSE'])\n",
    "plt.title('UserBased Collaborative Filtering for 5 fold cross validation')\n",
    "plt.xticks(x,['Cosine','MSD','Pearson'])\n",
    "plt.xlabel('Similarity measure')\n",
    "plt.ylabel('Average MAE')\n",
    "plt.show()\n"
   ]
  },
  {
   "cell_type": "code",
   "execution_count": 32,
   "metadata": {},
   "outputs": [],
   "source": [
    "# #Observation\n",
    "# x = [0,1,2]\n",
    "# y_rmse = [cv_usb_cos['test_rmse'].mean(),cv_usb_msd['test_rmse'].mean(),cv_usb_pearson['test_rmse'].mean()]\n",
    "# plt.plot(x, y_rmse)\n",
    "# plt.title('UserBased Collaborative Filtering for 5 fold cross validation')\n",
    "# plt.legend(['RMSE'])\n",
    "# plt.xticks(x,['Cosine','MSD','Pearson'])\n",
    "# plt.xlabel('Similarity measure')\n",
    "# plt.ylabel('Average RMSE')\n",
    "# plt.show()"
   ]
  },
  {
   "cell_type": "code",
   "execution_count": 15,
   "metadata": {},
   "outputs": [
    {
     "name": "stdout",
     "output_type": "stream",
     "text": [
      "Computing the cosine similarity matrix...\n",
      "Done computing similarity matrix.\n",
      "Computing the cosine similarity matrix...\n",
      "Done computing similarity matrix.\n",
      "Computing the cosine similarity matrix...\n",
      "Done computing similarity matrix.\n",
      "Computing the cosine similarity matrix...\n",
      "Done computing similarity matrix.\n",
      "Computing the cosine similarity matrix...\n",
      "Done computing similarity matrix.\n",
      "Evaluating RMSE, MAE of algorithm KNNBasic on 5 split(s).\n",
      "\n",
      "                  Fold 1  Fold 2  Fold 3  Fold 4  Fold 5  Mean    Std     \n",
      "RMSE (testset)    0.9988  0.9976  0.9928  0.9923  0.9927  0.9949  0.0028  \n",
      "MAE (testset)     0.7793  0.7776  0.7701  0.7701  0.7743  0.7743  0.0038  \n",
      "Fit time          6.20    4.74    4.53    4.60    4.90    5.00    0.62    \n",
      "Test time         5.85    6.29    6.30    6.48    6.24    6.23    0.21    \n"
     ]
    }
   ],
   "source": [
    "#Item-based CF\n",
    "#Cosine\n",
    "sim_options = {'name':'cosine', 'user_based': False}\n",
    "itb_cos = KNNBasic(sim_options=sim_options);\n",
    "cv_itb_cos = cross_validate(itb_cos, data, measures=['RMSE', 'MAE'], cv=5, verbose=True);"
   ]
  },
  {
   "cell_type": "code",
   "execution_count": 16,
   "metadata": {},
   "outputs": [
    {
     "name": "stdout",
     "output_type": "stream",
     "text": [
      "Computing the msd similarity matrix...\n",
      "Done computing similarity matrix.\n",
      "Computing the msd similarity matrix...\n",
      "Done computing similarity matrix.\n",
      "Computing the msd similarity matrix...\n",
      "Done computing similarity matrix.\n",
      "Computing the msd similarity matrix...\n",
      "Done computing similarity matrix.\n",
      "Computing the msd similarity matrix...\n",
      "Done computing similarity matrix.\n",
      "Evaluating RMSE, MAE of algorithm KNNBasic on 5 split(s).\n",
      "\n",
      "                  Fold 1  Fold 2  Fold 3  Fold 4  Fold 5  Mean    Std     \n",
      "RMSE (testset)    0.9337  0.9372  0.9306  0.9410  0.9353  0.9356  0.0035  \n",
      "MAE (testset)     0.7221  0.7209  0.7197  0.7226  0.7220  0.7215  0.0011  \n",
      "Fit time          2.92    3.23    3.15    3.16    3.16    3.12    0.11    \n",
      "Test time         6.22    6.44    6.43    6.29    6.82    6.44    0.21    \n"
     ]
    }
   ],
   "source": [
    "#MSD\n",
    "sim_options = {'name':'msd', 'user_based': False}\n",
    "itb_msd = KNNBasic(sim_options=sim_options);\n",
    "cv_itb_msd = cross_validate(itb_msd, data, measures=['RMSE', 'MAE'], cv=5, verbose=True);"
   ]
  },
  {
   "cell_type": "code",
   "execution_count": 17,
   "metadata": {},
   "outputs": [
    {
     "name": "stdout",
     "output_type": "stream",
     "text": [
      "Computing the pearson similarity matrix...\n",
      "Done computing similarity matrix.\n",
      "Computing the pearson similarity matrix...\n",
      "Done computing similarity matrix.\n",
      "Computing the pearson similarity matrix...\n",
      "Done computing similarity matrix.\n",
      "Computing the pearson similarity matrix...\n",
      "Done computing similarity matrix.\n",
      "Computing the pearson similarity matrix...\n",
      "Done computing similarity matrix.\n",
      "Evaluating RMSE, MAE of algorithm KNNBasic on 5 split(s).\n",
      "\n",
      "                  Fold 1  Fold 2  Fold 3  Fold 4  Fold 5  Mean    Std     \n",
      "RMSE (testset)    0.9920  0.9892  0.9946  0.9909  0.9807  0.9895  0.0047  \n",
      "MAE (testset)     0.7686  0.7673  0.7712  0.7730  0.7620  0.7684  0.0038  \n",
      "Fit time          8.21    6.73    6.50    7.06    6.81    7.06    0.60    \n",
      "Test time         6.14    6.33    6.17    6.24    6.39    6.25    0.09    \n"
     ]
    }
   ],
   "source": [
    "#Pearson\n",
    "sim_options = {'name':'pearson', 'user_based': False}\n",
    "itb_pearson = KNNBasic(sim_options=sim_options);\n",
    "cv_itb_pearson = cross_validate(itb_pearson, data, measures=['RMSE', 'MAE'], cv=5, verbose=True);\n"
   ]
  },
  {
   "cell_type": "code",
   "execution_count": 31,
   "metadata": {},
   "outputs": [
    {
     "data": {
      "image/png": "[encoded data removed]",
      "text/plain": [
       "<Figure size 640x480 with 1 Axes>"
      ]
     },
     "metadata": {},
     "output_type": "display_data"
    }
   ],
   "source": [
    "#Observation1 for MAE\n",
    "x = [0,1,2]\n",
    "y_mae = [cv_itb_cos['test_mae'].mean(),cv_itb_msd['test_mae'].mean(),cv_itb_pearson['test_mae'].mean()]\n",
    "plt.plot(x, y_mae)\n",
    "plt.plot(x, y_rmse)\n",
    "plt.title('ItemBased Collaborative Filtering for 5 fold cross validation')\n",
    "plt.legend(['MAE','RMSE'])\n",
    "plt.xticks(x,['Cosine','MSD','Pearson'])\n",
    "plt.xlabel('Similarity measure')\n",
    "plt.ylabel('Average MAE')\n",
    "plt.show()\n"
   ]
  },
  {
   "cell_type": "code",
   "execution_count": 29,
   "metadata": {},
   "outputs": [],
   "source": [
    "# #Observation2 for RMSE\n",
    "# x = [0,1,2]\n",
    "# y_rmse = [cv_itb_cos['test_rmse'].mean(),cv_itb_msd['test_rmse'].mean(),cv_itb_pearson['test_rmse'].mean()]\n",
    "# plt.plot(x, y_rmse)\n",
    "# plt.title('ItemBased Collaborative Filtering for 5 fold cross validation')\n",
    "# plt.legend(['RMSE'])\n",
    "# plt.xticks(x,['Cosine','MSD','Pearson'])\n",
    "# plt.xlabel('Similarity measure')\n",
    "# plt.ylabel('Average RMSE')\n",
    "# plt.show()\n"
   ]
  },
  {
   "cell_type": "code",
   "execution_count": 20,
   "metadata": {},
   "outputs": [],
   "source": [
    "#Number of neighbours\n",
    "trainDaset, testDaset = train_test_split(data, test_size = 0.2, random_state = 42)"
   ]
  },
  {
   "cell_type": "code",
   "execution_count": 21,
   "metadata": {},
   "outputs": [
    {
     "name": "stdout",
     "output_type": "stream",
     "text": [
      "Computing the msd similarity matrix...\n",
      "Done computing similarity matrix.\n",
      "MAE:  0.8978\n",
      "RMSE: 1.1999\n",
      "Computing the msd similarity matrix...\n",
      "Done computing similarity matrix.\n",
      "MAE:  0.8152\n",
      "RMSE: 1.0668\n",
      "Computing the msd similarity matrix...\n",
      "Done computing similarity matrix.\n",
      "MAE:  0.7862\n",
      "RMSE: 1.0232\n",
      "Computing the msd similarity matrix...\n",
      "Done computing similarity matrix.\n",
      "MAE:  0.7681\n",
      "RMSE: 0.9988\n",
      "Computing the msd similarity matrix...\n",
      "Done computing similarity matrix.\n",
      "MAE:  0.7578\n",
      "RMSE: 0.9861\n",
      "Computing the msd similarity matrix...\n",
      "Done computing similarity matrix.\n",
      "MAE:  0.7514\n",
      "RMSE: 0.9784\n",
      "Computing the msd similarity matrix...\n",
      "Done computing similarity matrix.\n",
      "MAE:  0.7460\n",
      "RMSE: 0.9720\n",
      "Computing the msd similarity matrix...\n",
      "Done computing similarity matrix.\n",
      "MAE:  0.7429\n",
      "RMSE: 0.9683\n",
      "Computing the msd similarity matrix...\n",
      "Done computing similarity matrix.\n",
      "MAE:  0.7408\n",
      "RMSE: 0.9663\n",
      "Computing the msd similarity matrix...\n",
      "Done computing similarity matrix.\n",
      "MAE:  0.7397\n",
      "RMSE: 0.9647\n",
      "Computing the msd similarity matrix...\n",
      "Done computing similarity matrix.\n",
      "MAE:  0.7384\n",
      "RMSE: 0.9630\n",
      "Computing the msd similarity matrix...\n",
      "Done computing similarity matrix.\n",
      "MAE:  0.7381\n",
      "RMSE: 0.9619\n",
      "Computing the msd similarity matrix...\n",
      "Done computing similarity matrix.\n",
      "MAE:  0.7378\n",
      "RMSE: 0.9616\n",
      "Computing the msd similarity matrix...\n",
      "Done computing similarity matrix.\n",
      "MAE:  0.7381\n",
      "RMSE: 0.9616\n",
      "Computing the msd similarity matrix...\n",
      "Done computing similarity matrix.\n",
      "MAE:  0.7384\n",
      "RMSE: 0.9618\n",
      "Computing the msd similarity matrix...\n",
      "Done computing similarity matrix.\n",
      "MAE:  0.7386\n",
      "RMSE: 0.9616\n",
      "Computing the msd similarity matrix...\n",
      "Done computing similarity matrix.\n",
      "MAE:  0.7386\n",
      "RMSE: 0.9614\n",
      "Computing the msd similarity matrix...\n",
      "Done computing similarity matrix.\n",
      "MAE:  0.7389\n",
      "RMSE: 0.9615\n",
      "Computing the msd similarity matrix...\n",
      "Done computing similarity matrix.\n",
      "MAE:  0.7392\n",
      "RMSE: 0.9615\n"
     ]
    }
   ],
   "source": [
    "#User Based CF\n",
    "usbc_nn_mae = []\n",
    "usbc_nn_rmse = []\n",
    "k1 = list(np.arange(1,20,1))\n",
    "for i in k1:\n",
    "  usbc_nn = KNNBasic(k = i, sim_options = {'user_based' : True})\n",
    "  usbc_nn.fit(trainDaset)\n",
    "  predictions = usbc_nn.test(testDaset)\n",
    "  usbc_nn_mae.append(accuracy.mae(predictions))\n",
    "  usbc_nn_rmse.append(accuracy.rmse(predictions))\n"
   ]
  },
  {
   "cell_type": "code",
   "execution_count": 33,
   "metadata": {},
   "outputs": [
    {
     "data": {
      "image/png": "[encoded data removed]",
      "text/plain": [
       "<Figure size 640x480 with 1 Axes>"
      ]
     },
     "metadata": {},
     "output_type": "display_data"
    }
   ],
   "source": [
    "plt.plot(k1,usbc_nn_mae)\n",
    "plt.plot(k1,usbc_nn_rmse)\n",
    "plt.xlabel('Number of neighbors count')\n",
    "plt.ylabel('Testset MAE')\n",
    "plt.legend(['MAE','RMSE'])\n",
    "plt.title('UserBased collaborative filtering')\n",
    "plt.show()\n"
   ]
  },
  {
   "cell_type": "code",
   "execution_count": 34,
   "metadata": {},
   "outputs": [],
   "source": [
    "# plt.plot(k1,usbc_nn_rmse)\n",
    "# plt.xlabel('Number of neighbors count')\n",
    "# plt.ylabel('Testset RMSE')\n",
    "# plt.legend(['RMSE'])\n",
    "# plt.title('UserBased collaborative filtering')\n",
    "# plt.show()\n"
   ]
  },
  {
   "cell_type": "code",
   "execution_count": 40,
   "metadata": {},
   "outputs": [
    {
     "name": "stdout",
     "output_type": "stream",
     "text": [
      "optimum best Value of K for userbased :  17\n",
      "RMSE minimum value:  0.9613586736386458\n"
     ]
    }
   ],
   "source": [
    "#finding best K value\n",
    "k_usbc = usbc_nn_rmse.index(min(usbc_nn_rmse))+1\n",
    "print('optimum best Value of K for userbased : ', k_usbc)\n",
    "print('RMSE minimum value: ', min(usbc_nn_rmse))"
   ]
  },
  {
   "cell_type": "code",
   "execution_count": 25,
   "metadata": {},
   "outputs": [
    {
     "name": "stdout",
     "output_type": "stream",
     "text": [
      "Computing the msd similarity matrix...\n",
      "Done computing similarity matrix.\n",
      "MAE:  0.9731\n",
      "RMSE: 1.3161\n",
      "Computing the msd similarity matrix...\n",
      "Done computing similarity matrix.\n",
      "MAE:  0.8748\n",
      "RMSE: 1.1495\n",
      "Computing the msd similarity matrix...\n",
      "Done computing similarity matrix.\n",
      "MAE:  0.8339\n",
      "RMSE: 1.0849\n",
      "Computing the msd similarity matrix...\n",
      "Done computing similarity matrix.\n",
      "MAE:  0.8125\n",
      "RMSE: 1.0502\n",
      "Computing the msd similarity matrix...\n",
      "Done computing similarity matrix.\n",
      "MAE:  0.7954\n",
      "RMSE: 1.0262\n",
      "Computing the msd similarity matrix...\n",
      "Done computing similarity matrix.\n",
      "MAE:  0.7837\n",
      "RMSE: 1.0105\n",
      "Computing the msd similarity matrix...\n",
      "Done computing similarity matrix.\n",
      "MAE:  0.7772\n",
      "RMSE: 1.0008\n",
      "Computing the msd similarity matrix...\n",
      "Done computing similarity matrix.\n",
      "MAE:  0.7707\n",
      "RMSE: 0.9933\n",
      "Computing the msd similarity matrix...\n",
      "Done computing similarity matrix.\n",
      "MAE:  0.7652\n",
      "RMSE: 0.9857\n",
      "Computing the msd similarity matrix...\n",
      "Done computing similarity matrix.\n",
      "MAE:  0.7608\n",
      "RMSE: 0.9804\n",
      "Computing the msd similarity matrix...\n",
      "Done computing similarity matrix.\n",
      "MAE:  0.7569\n",
      "RMSE: 0.9754\n",
      "Computing the msd similarity matrix...\n",
      "Done computing similarity matrix.\n",
      "MAE:  0.7535\n",
      "RMSE: 0.9710\n",
      "Computing the msd similarity matrix...\n",
      "Done computing similarity matrix.\n",
      "MAE:  0.7505\n",
      "RMSE: 0.9672\n",
      "Computing the msd similarity matrix...\n",
      "Done computing similarity matrix.\n",
      "MAE:  0.7481\n",
      "RMSE: 0.9643\n",
      "Computing the msd similarity matrix...\n",
      "Done computing similarity matrix.\n",
      "MAE:  0.7468\n",
      "RMSE: 0.9629\n",
      "Computing the msd similarity matrix...\n",
      "Done computing similarity matrix.\n",
      "MAE:  0.7450\n",
      "RMSE: 0.9610\n",
      "Computing the msd similarity matrix...\n",
      "Done computing similarity matrix.\n",
      "MAE:  0.7435\n",
      "RMSE: 0.9590\n",
      "Computing the msd similarity matrix...\n",
      "Done computing similarity matrix.\n",
      "MAE:  0.7421\n",
      "RMSE: 0.9573\n",
      "Computing the msd similarity matrix...\n",
      "Done computing similarity matrix.\n",
      "MAE:  0.7405\n",
      "RMSE: 0.9554\n"
     ]
    }
   ],
   "source": [
    "#Item-based CF\n",
    "itbc_nn_mae = []\n",
    "itbc_nn_rmse = []\n",
    "for i in k1:\n",
    "  itbc_nn = KNNBasic(k = i, sim_options = {'user_based' : False})\n",
    "  itbc_nn.fit(trainDaset)\n",
    "  predictions = itbc_nn.test(testDaset)\n",
    "  itbc_nn_mae.append(accuracy.mae(predictions))\n",
    "  itbc_nn_rmse.append(accuracy.rmse(predictions))\n"
   ]
  },
  {
   "cell_type": "code",
   "execution_count": 35,
   "metadata": {},
   "outputs": [
    {
     "data": {
      "image/png": "[encoded data removed]",
      "text/plain": [
       "<Figure size 640x480 with 1 Axes>"
      ]
     },
     "metadata": {},
     "output_type": "display_data"
    }
   ],
   "source": [
    "plt.plot(k1,itbc_nn_mae)\n",
    "plt.plot(k1,itbc_nn_rmse)\n",
    "plt.xlabel('Number of Neighbors count')\n",
    "plt.ylabel('Testset MAE')\n",
    "plt.legend(['MAE','RMSE'])\n",
    "plt.title('ItemBased collaborative filtering')\n",
    "plt.show()\n"
   ]
  },
  {
   "cell_type": "code",
   "execution_count": 36,
   "metadata": {},
   "outputs": [],
   "source": [
    "# plt.plot(k1,itbc_nn_rmse)\n",
    "# plt.xlabel('Number of Neighbors count')\n",
    "# plt.ylabel('Testset RMSE')\n",
    "# plt.legend(['RMSE'])\n",
    "# plt.title('ItemBased collaborative filtering')\n",
    "# plt.show()"
   ]
  },
  {
   "cell_type": "code",
   "execution_count": 39,
   "metadata": {},
   "outputs": [
    {
     "name": "stdout",
     "output_type": "stream",
     "text": [
      "Best Value of K for Itembased:  19\n",
      "Minimum RMSE :  0.9554127077157523\n"
     ]
    }
   ],
   "source": [
    "#finding best k\n",
    "k_itbc = itbc_nn_rmse.index(min(itbc_nn_rmse))+1\n",
    "print('Best Value of K for Itembased: ', k_itbc)\n",
    "print('Minimum RMSE : ', min(itbc_nn_rmse))"
   ]
  },
  {
   "cell_type": "code",
   "execution_count": null,
   "metadata": {},
   "outputs": [],
   "source": []
  }
 ],
 "metadata": {
  "kernelspec": {
   "display_name": "Python 3 (ipykernel)",
   "language": "python",
   "name": "python3"
  },
  "language_info": {
   "codemirror_mode": {
    "name": "ipython",
    "version": 3
   },
   "file_extension": ".py",
   "mimetype": "text/x-python",
   "name": "python",
   "nbconvert_exporter": "python",
   "pygments_lexer": "ipython3",
   "version": "3.10.10"
  }
 },
 "nbformat": 4,
 "nbformat_minor": 2
}
